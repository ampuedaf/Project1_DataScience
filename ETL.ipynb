{
 "cells": [
  {
   "cell_type": "code",
   "execution_count": 1,
   "metadata": {},
   "outputs": [
    {
     "name": "stderr",
     "output_type": "stream",
     "text": [
      "[nltk_data] Downloading package vader_lexicon to\n",
      "[nltk_data]     C:\\Users\\USUARIO\\AppData\\Roaming\\nltk_data...\n",
      "[nltk_data]   Package vader_lexicon is already up-to-date!\n"
     ]
    },
    {
     "data": {
      "text/plain": [
       "True"
      ]
     },
     "execution_count": 1,
     "metadata": {},
     "output_type": "execute_result"
    }
   ],
   "source": [
    "import gzip\n",
    "import ast\n",
    "import json\n",
    "import pandas as pd\n",
    "from nltk.sentiment.vader import SentimentIntensityAnalyzer \n",
    "import nltk\n",
    "nltk.download('vader_lexicon')"
   ]
  },
  {
   "cell_type": "markdown",
   "metadata": {},
   "source": [
    "vamos a traer el primer Archivo JSON. llamado output_steam_games"
   ]
  },
  {
   "cell_type": "code",
   "execution_count": 2,
   "metadata": {},
   "outputs": [],
   "source": [
    "\n",
    "\n",
    "# Leer el archivo JSON línea por línea y cargar cada objeto JSON en la lista 'data'\n",
    "data = []\n",
    "with open('D:/USUARIO/Desktop/datos/output_steam_games.json', 'r') as file:\n",
    "    for line in file:\n",
    "        try:\n",
    "            obj = json.loads(line)\n",
    "            data.append(obj)\n",
    "        except json.JSONDecodeError:\n",
    "            print(f\"Error al decodificar JSON en la línea: {line}\")"
   ]
  },
  {
   "cell_type": "markdown",
   "metadata": {},
   "source": [
    "vamos almacenar el dataframe con el nombre de steam_games_df"
   ]
  },
  {
   "cell_type": "code",
   "execution_count": 3,
   "metadata": {},
   "outputs": [],
   "source": [
    "steam_games_df =pd.DataFrame(data)"
   ]
  },
  {
   "cell_type": "code",
   "execution_count": 4,
   "metadata": {},
   "outputs": [
    {
     "name": "stdout",
     "output_type": "stream",
     "text": [
      "88310\n"
     ]
    }
   ],
   "source": [
    "filas_nulas = steam_games_df.isnull().all(axis=1).sum()\n",
    "print(filas_nulas)"
   ]
  },
  {
   "cell_type": "markdown",
   "metadata": {},
   "source": [
    "Eliminamos las filas nulas de nuesto steam_games_df"
   ]
  },
  {
   "cell_type": "code",
   "execution_count": 5,
   "metadata": {},
   "outputs": [],
   "source": [
    "steam_games_df= steam_games_df.dropna()\n"
   ]
  },
  {
   "cell_type": "markdown",
   "metadata": {},
   "source": [
    "Vamos a trabajar con el archivo JSON llamado australian_user_reviews"
   ]
  },
  {
   "cell_type": "code",
   "execution_count": 6,
   "metadata": {},
   "outputs": [],
   "source": [
    "with open('D:/USUARIO/Desktop/datos/australian_user_reviews.json', 'r', encoding='utf-8') as file:\n",
    "    data = [eval(line) for line in file]\n",
    "    \n",
    "user_reviews = pd.DataFrame(data)"
   ]
  },
  {
   "cell_type": "markdown",
   "metadata": {},
   "source": [
    "Luego de tener el archivo requerimos hacer el explode, esto con la finalidad de desanidar la columna reviews, luego la normalizamos para que tenga cada columna. para el final hacemos el concat de los dos dataset y eliminamos la comulna reviewa, y nos queda el nuevo dataSet"
   ]
  },
  {
   "cell_type": "code",
   "execution_count": 7,
   "metadata": {},
   "outputs": [],
   "source": [
    "user_reviews_explored = user_reviews.explode('reviews')\n",
    "user_reviews_normalized = pd.json_normalize(user_reviews_explored['reviews'])\n",
    "user_reviews_explored.reset_index(drop=True, inplace=True)\n",
    "user_reviews_normalized.reset_index(drop=True, inplace=True)\n",
    "user_reviews_final = pd.concat([user_reviews_explored.drop('reviews',axis=1), user_reviews_normalized], axis=1)"
   ]
  },
  {
   "cell_type": "markdown",
   "metadata": {},
   "source": [
    "Hacemos el mismo proceso para el archivo llamado australian_users_items. lo extraemos del archivo JSON"
   ]
  },
  {
   "cell_type": "code",
   "execution_count": 8,
   "metadata": {},
   "outputs": [],
   "source": [
    "with open('D:/USUARIO/Desktop/datos/australian_users_items.json', 'r', encoding='utf-8') as file:\n",
    "    data2 = [eval(line) for line in file]\n",
    "    \n",
    "user_items = pd.DataFrame(data2)"
   ]
  },
  {
   "cell_type": "markdown",
   "metadata": {},
   "source": [
    "procedemos a desanidar el dataframe en la columna items"
   ]
  },
  {
   "cell_type": "code",
   "execution_count": 9,
   "metadata": {},
   "outputs": [],
   "source": [
    "user_items_explored = user_items.explode('items')\n",
    "user_items_normalized = pd.json_normalize(user_items_explored['items'])\n",
    "user_items_explored.reset_index(drop=True, inplace=True)\n",
    "user_items_normalized.reset_index(drop=True, inplace=True)\n",
    "user_items_final = pd.concat([user_items_explored.drop('items',axis=1), user_items_normalized], axis=1)"
   ]
  },
  {
   "cell_type": "code",
   "execution_count": 11,
   "metadata": {},
   "outputs": [
    {
     "name": "stdout",
     "output_type": "stream",
     "text": [
      "<class 'pandas.core.frame.DataFrame'>\n",
      "RangeIndex: 5170015 entries, 0 to 5170014\n",
      "Data columns (total 8 columns):\n",
      " #   Column            Dtype  \n",
      "---  ------            -----  \n",
      " 0   user_id           object \n",
      " 1   items_count       int64  \n",
      " 2   steam_id          object \n",
      " 3   user_url          object \n",
      " 4   item_id           object \n",
      " 5   item_name         object \n",
      " 6   playtime_forever  float64\n",
      " 7   playtime_2weeks   float64\n",
      "dtypes: float64(2), int64(1), object(5)\n",
      "memory usage: 315.6+ MB\n"
     ]
    }
   ],
   "source": [
    "user_items_final.info()"
   ]
  },
  {
   "cell_type": "markdown",
   "metadata": {},
   "source": [
    "Vamos a tomar este dataframe  para hacer un groupby, esto con el fin de tener las horas acumuladas  (playtime_forever)  por cada item_id."
   ]
  },
  {
   "cell_type": "code",
   "execution_count": 12,
   "metadata": {},
   "outputs": [],
   "source": [
    "df_agrupado = user_items_final.groupby(['item_id'])['playtime_forever'].sum().reset_index().rename(columns={'playtime_forever':'suma_playtime_forever'})\n"
   ]
  },
  {
   "cell_type": "code",
   "execution_count": 13,
   "metadata": {},
   "outputs": [
    {
     "name": "stdout",
     "output_type": "stream",
     "text": [
      "<class 'pandas.core.frame.DataFrame'>\n",
      "RangeIndex: 10978 entries, 0 to 10977\n",
      "Data columns (total 2 columns):\n",
      " #   Column                 Non-Null Count  Dtype  \n",
      "---  ------                 --------------  -----  \n",
      " 0   item_id                10978 non-null  object \n",
      " 1   suma_playtime_forever  10978 non-null  float64\n",
      "dtypes: float64(1), object(1)\n",
      "memory usage: 171.7+ KB\n"
     ]
    }
   ],
   "source": [
    "df_agrupado.info()"
   ]
  },
  {
   "cell_type": "markdown",
   "metadata": {},
   "source": [
    "Vamos a trabajar con el dataframe  user_review_final. primero vamos a crear la columna 'sentiment-analysis' esto lo vamos hacer con la libreria Nnltk que sirve para esudio de analisis de sentimiento, de acuerdo a los   valores que se veran reflejados en la columna, haremos luegola conversión cmo lo piden en el enunciado."
   ]
  },
  {
   "cell_type": "code",
   "execution_count": 14,
   "metadata": {},
   "outputs": [],
   "source": [
    "sid = SentimentIntensityAnalyzer()"
   ]
  },
  {
   "cell_type": "code",
   "execution_count": 15,
   "metadata": {},
   "outputs": [],
   "source": [
    "user_reviews_final['sentiment-analysis'] = user_reviews_final['review'].apply(lambda x: sid.polarity_scores(str(x))['compound'] if isinstance(x, str) else 0)"
   ]
  },
  {
   "cell_type": "markdown",
   "metadata": {},
   "source": [
    "aca vamos hacer el cambio de acuerdo al enunciado: debe tomar el valor '0' si es malo, '1' si es neutral y '2' si es positivo. Esta nueva columna debe reemplazar la de user_reviews"
   ]
  },
  {
   "cell_type": "code",
   "execution_count": 16,
   "metadata": {},
   "outputs": [],
   "source": [
    "user_reviews_final.loc[user_reviews_final['sentiment-analysis'] > 0, 'sentiment-analysis'] = 2\n",
    "user_reviews_final.loc[user_reviews_final['sentiment-analysis'] == 0, 'sentiment-analysis'] = 1\n",
    "user_reviews_final.loc[user_reviews_final['sentiment-analysis'] < 0, 'sentiment-analysis'] = 0"
   ]
  },
  {
   "cell_type": "code",
   "execution_count": 17,
   "metadata": {},
   "outputs": [
    {
     "data": {
      "text/html": [
       "<div>\n",
       "<style scoped>\n",
       "    .dataframe tbody tr th:only-of-type {\n",
       "        vertical-align: middle;\n",
       "    }\n",
       "\n",
       "    .dataframe tbody tr th {\n",
       "        vertical-align: top;\n",
       "    }\n",
       "\n",
       "    .dataframe thead th {\n",
       "        text-align: right;\n",
       "    }\n",
       "</style>\n",
       "<table border=\"1\" class=\"dataframe\">\n",
       "  <thead>\n",
       "    <tr style=\"text-align: right;\">\n",
       "      <th></th>\n",
       "      <th>user_id</th>\n",
       "      <th>user_url</th>\n",
       "      <th>funny</th>\n",
       "      <th>posted</th>\n",
       "      <th>last_edited</th>\n",
       "      <th>item_id</th>\n",
       "      <th>helpful</th>\n",
       "      <th>recommend</th>\n",
       "      <th>review</th>\n",
       "      <th>sentiment-analysis</th>\n",
       "    </tr>\n",
       "  </thead>\n",
       "  <tbody>\n",
       "    <tr>\n",
       "      <th>0</th>\n",
       "      <td>76561197970982479</td>\n",
       "      <td>http://steamcommunity.com/profiles/76561197970...</td>\n",
       "      <td></td>\n",
       "      <td>Posted November 5, 2011.</td>\n",
       "      <td></td>\n",
       "      <td>1250</td>\n",
       "      <td>No ratings yet</td>\n",
       "      <td>True</td>\n",
       "      <td>Simple yet with great replayability. In my opi...</td>\n",
       "      <td>2.0</td>\n",
       "    </tr>\n",
       "    <tr>\n",
       "      <th>1</th>\n",
       "      <td>76561197970982479</td>\n",
       "      <td>http://steamcommunity.com/profiles/76561197970...</td>\n",
       "      <td></td>\n",
       "      <td>Posted July 15, 2011.</td>\n",
       "      <td></td>\n",
       "      <td>22200</td>\n",
       "      <td>No ratings yet</td>\n",
       "      <td>True</td>\n",
       "      <td>It's unique and worth a playthrough.</td>\n",
       "      <td>2.0</td>\n",
       "    </tr>\n",
       "    <tr>\n",
       "      <th>2</th>\n",
       "      <td>76561197970982479</td>\n",
       "      <td>http://steamcommunity.com/profiles/76561197970...</td>\n",
       "      <td></td>\n",
       "      <td>Posted April 21, 2011.</td>\n",
       "      <td></td>\n",
       "      <td>43110</td>\n",
       "      <td>No ratings yet</td>\n",
       "      <td>True</td>\n",
       "      <td>Great atmosphere. The gunplay can be a bit chu...</td>\n",
       "      <td>2.0</td>\n",
       "    </tr>\n",
       "    <tr>\n",
       "      <th>3</th>\n",
       "      <td>js41637</td>\n",
       "      <td>http://steamcommunity.com/id/js41637</td>\n",
       "      <td></td>\n",
       "      <td>Posted June 24, 2014.</td>\n",
       "      <td></td>\n",
       "      <td>251610</td>\n",
       "      <td>15 of 20 people (75%) found this review helpful</td>\n",
       "      <td>True</td>\n",
       "      <td>I know what you think when you see this title ...</td>\n",
       "      <td>2.0</td>\n",
       "    </tr>\n",
       "    <tr>\n",
       "      <th>4</th>\n",
       "      <td>js41637</td>\n",
       "      <td>http://steamcommunity.com/id/js41637</td>\n",
       "      <td></td>\n",
       "      <td>Posted September 8, 2013.</td>\n",
       "      <td></td>\n",
       "      <td>227300</td>\n",
       "      <td>0 of 1 people (0%) found this review helpful</td>\n",
       "      <td>True</td>\n",
       "      <td>For a simple (it's actually not all that simpl...</td>\n",
       "      <td>2.0</td>\n",
       "    </tr>\n",
       "  </tbody>\n",
       "</table>\n",
       "</div>"
      ],
      "text/plain": [
       "             user_id                                           user_url funny  \\\n",
       "0  76561197970982479  http://steamcommunity.com/profiles/76561197970...         \n",
       "1  76561197970982479  http://steamcommunity.com/profiles/76561197970...         \n",
       "2  76561197970982479  http://steamcommunity.com/profiles/76561197970...         \n",
       "3            js41637               http://steamcommunity.com/id/js41637         \n",
       "4            js41637               http://steamcommunity.com/id/js41637         \n",
       "\n",
       "                      posted last_edited item_id  \\\n",
       "0   Posted November 5, 2011.                1250   \n",
       "1      Posted July 15, 2011.               22200   \n",
       "2     Posted April 21, 2011.               43110   \n",
       "3      Posted June 24, 2014.              251610   \n",
       "4  Posted September 8, 2013.              227300   \n",
       "\n",
       "                                           helpful recommend  \\\n",
       "0                                   No ratings yet      True   \n",
       "1                                   No ratings yet      True   \n",
       "2                                   No ratings yet      True   \n",
       "3  15 of 20 people (75%) found this review helpful      True   \n",
       "4     0 of 1 people (0%) found this review helpful      True   \n",
       "\n",
       "                                              review  sentiment-analysis  \n",
       "0  Simple yet with great replayability. In my opi...                 2.0  \n",
       "1               It's unique and worth a playthrough.                 2.0  \n",
       "2  Great atmosphere. The gunplay can be a bit chu...                 2.0  \n",
       "3  I know what you think when you see this title ...                 2.0  \n",
       "4  For a simple (it's actually not all that simpl...                 2.0  "
      ]
     },
     "execution_count": 17,
     "metadata": {},
     "output_type": "execute_result"
    }
   ],
   "source": [
    "user_reviews_final.head()"
   ]
  },
  {
   "cell_type": "markdown",
   "metadata": {},
   "source": [
    "Procedemos a eliminar la columna review."
   ]
  },
  {
   "cell_type": "code",
   "execution_count": 18,
   "metadata": {},
   "outputs": [],
   "source": [
    "user_reviews_final = user_reviews_final.drop('review',axis=1)"
   ]
  },
  {
   "cell_type": "code",
   "execution_count": 19,
   "metadata": {},
   "outputs": [
    {
     "name": "stdout",
     "output_type": "stream",
     "text": [
      "<class 'pandas.core.frame.DataFrame'>\n",
      "RangeIndex: 59333 entries, 0 to 59332\n",
      "Data columns (total 9 columns):\n",
      " #   Column              Non-Null Count  Dtype  \n",
      "---  ------              --------------  -----  \n",
      " 0   user_id             59333 non-null  object \n",
      " 1   user_url            59333 non-null  object \n",
      " 2   funny               59305 non-null  object \n",
      " 3   posted              59305 non-null  object \n",
      " 4   last_edited         59305 non-null  object \n",
      " 5   item_id             59305 non-null  object \n",
      " 6   helpful             59305 non-null  object \n",
      " 7   recommend           59305 non-null  object \n",
      " 8   sentiment-analysis  59333 non-null  float64\n",
      "dtypes: float64(1), object(8)\n",
      "memory usage: 4.1+ MB\n"
     ]
    }
   ],
   "source": [
    "user_reviews_final.info()"
   ]
  },
  {
   "cell_type": "code",
   "execution_count": 20,
   "metadata": {},
   "outputs": [
    {
     "name": "stdout",
     "output_type": "stream",
     "text": [
      "sentiment-analysis\n",
      "2.0    37657\n",
      "1.0    11844\n",
      "0.0     9832\n",
      "Name: count, dtype: int64\n"
     ]
    }
   ],
   "source": [
    "conteo_valores = user_reviews_final['sentiment-analysis'].value_counts()\n",
    "print(conteo_valores)"
   ]
  },
  {
   "cell_type": "markdown",
   "metadata": {},
   "source": [
    "Procedemos a unir el user_reviews_final con df_agrupado haciendo un merge con la columna en comun 'item_id'"
   ]
  },
  {
   "cell_type": "code",
   "execution_count": 21,
   "metadata": {},
   "outputs": [],
   "source": [
    "df_merge1 = pd.merge(df_agrupado,user_reviews_final,on='item_id')"
   ]
  },
  {
   "cell_type": "markdown",
   "metadata": {},
   "source": [
    "ahora para concluir debemos hacer la union con el dataframe faltante llamado steam_games_df, pero antes debemos cmabiar el nombre de  'id'po 'item_id'"
   ]
  },
  {
   "cell_type": "code",
   "execution_count": 22,
   "metadata": {},
   "outputs": [],
   "source": [
    "steam_games_df = steam_games_df.rename(columns={'id': 'item_id'})"
   ]
  },
  {
   "cell_type": "markdown",
   "metadata": {},
   "source": [
    "ahora si vamos hacer el merge. de steam_games_df con df:merge1"
   ]
  },
  {
   "cell_type": "code",
   "execution_count": 23,
   "metadata": {},
   "outputs": [],
   "source": [
    "consolidado_df = pd.merge(df_merge1 ,steam_games_df,on='item_id')"
   ]
  },
  {
   "cell_type": "code",
   "execution_count": 27,
   "metadata": {},
   "outputs": [
    {
     "name": "stdout",
     "output_type": "stream",
     "text": [
      "<class 'pandas.core.frame.DataFrame'>\n",
      "RangeIndex: 44680 entries, 0 to 44679\n",
      "Data columns (total 22 columns):\n",
      " #   Column                 Non-Null Count  Dtype  \n",
      "---  ------                 --------------  -----  \n",
      " 0   item_id                44680 non-null  object \n",
      " 1   suma_playtime_forever  44680 non-null  float64\n",
      " 2   user_id                44680 non-null  object \n",
      " 3   user_url               44680 non-null  object \n",
      " 4   funny                  44680 non-null  object \n",
      " 5   posted                 44680 non-null  object \n",
      " 6   last_edited            44680 non-null  object \n",
      " 7   helpful                44680 non-null  object \n",
      " 8   recommend              44680 non-null  object \n",
      " 9   sentiment-analysis     44680 non-null  float64\n",
      " 10  publisher              44680 non-null  object \n",
      " 11  genres                 44680 non-null  object \n",
      " 12  app_name               44680 non-null  object \n",
      " 13  title                  44680 non-null  object \n",
      " 14  url                    44680 non-null  object \n",
      " 15  release_date           44680 non-null  object \n",
      " 16  tags                   44680 non-null  object \n",
      " 17  reviews_url            44680 non-null  object \n",
      " 18  specs                  44680 non-null  object \n",
      " 19  price                  44680 non-null  object \n",
      " 20  early_access           44680 non-null  object \n",
      " 21  developer              44680 non-null  object \n",
      "dtypes: float64(2), object(20)\n",
      "memory usage: 7.5+ MB\n"
     ]
    }
   ],
   "source": [
    "consolidado_df.info()"
   ]
  },
  {
   "cell_type": "code",
   "execution_count": 28,
   "metadata": {},
   "outputs": [
    {
     "data": {
      "text/html": [
       "<div>\n",
       "<style scoped>\n",
       "    .dataframe tbody tr th:only-of-type {\n",
       "        vertical-align: middle;\n",
       "    }\n",
       "\n",
       "    .dataframe tbody tr th {\n",
       "        vertical-align: top;\n",
       "    }\n",
       "\n",
       "    .dataframe thead th {\n",
       "        text-align: right;\n",
       "    }\n",
       "</style>\n",
       "<table border=\"1\" class=\"dataframe\">\n",
       "  <thead>\n",
       "    <tr style=\"text-align: right;\">\n",
       "      <th></th>\n",
       "      <th>item_id</th>\n",
       "      <th>suma_playtime_forever</th>\n",
       "      <th>user_id</th>\n",
       "      <th>user_url</th>\n",
       "      <th>funny</th>\n",
       "      <th>posted</th>\n",
       "      <th>last_edited</th>\n",
       "      <th>helpful</th>\n",
       "      <th>recommend</th>\n",
       "      <th>sentiment-analysis</th>\n",
       "      <th>...</th>\n",
       "      <th>app_name</th>\n",
       "      <th>title</th>\n",
       "      <th>url</th>\n",
       "      <th>release_date</th>\n",
       "      <th>tags</th>\n",
       "      <th>reviews_url</th>\n",
       "      <th>specs</th>\n",
       "      <th>price</th>\n",
       "      <th>early_access</th>\n",
       "      <th>developer</th>\n",
       "    </tr>\n",
       "  </thead>\n",
       "  <tbody>\n",
       "    <tr>\n",
       "      <th>0</th>\n",
       "      <td>10</td>\n",
       "      <td>17386015.0</td>\n",
       "      <td>Bennysaputra</td>\n",
       "      <td>http://steamcommunity.com/id/Bennysaputra</td>\n",
       "      <td></td>\n",
       "      <td>Posted August 1, 2015.</td>\n",
       "      <td></td>\n",
       "      <td>No ratings yet</td>\n",
       "      <td>True</td>\n",
       "      <td>2.0</td>\n",
       "      <td>...</td>\n",
       "      <td>Counter-Strike</td>\n",
       "      <td>Counter-Strike</td>\n",
       "      <td>http://store.steampowered.com/app/10/CounterSt...</td>\n",
       "      <td>2000-11-01</td>\n",
       "      <td>[Action, FPS, Multiplayer, Shooter, Classic, T...</td>\n",
       "      <td>http://steamcommunity.com/app/10/reviews/?brow...</td>\n",
       "      <td>[Multi-player, Valve Anti-Cheat enabled]</td>\n",
       "      <td>9.99</td>\n",
       "      <td>False</td>\n",
       "      <td>Valve</td>\n",
       "    </tr>\n",
       "    <tr>\n",
       "      <th>1</th>\n",
       "      <td>10</td>\n",
       "      <td>17386015.0</td>\n",
       "      <td>Monsta45</td>\n",
       "      <td>http://steamcommunity.com/id/Monsta45</td>\n",
       "      <td></td>\n",
       "      <td>Posted April 26, 2015.</td>\n",
       "      <td></td>\n",
       "      <td>No ratings yet</td>\n",
       "      <td>True</td>\n",
       "      <td>1.0</td>\n",
       "      <td>...</td>\n",
       "      <td>Counter-Strike</td>\n",
       "      <td>Counter-Strike</td>\n",
       "      <td>http://store.steampowered.com/app/10/CounterSt...</td>\n",
       "      <td>2000-11-01</td>\n",
       "      <td>[Action, FPS, Multiplayer, Shooter, Classic, T...</td>\n",
       "      <td>http://steamcommunity.com/app/10/reviews/?brow...</td>\n",
       "      <td>[Multi-player, Valve Anti-Cheat enabled]</td>\n",
       "      <td>9.99</td>\n",
       "      <td>False</td>\n",
       "      <td>Valve</td>\n",
       "    </tr>\n",
       "    <tr>\n",
       "      <th>2</th>\n",
       "      <td>10</td>\n",
       "      <td>17386015.0</td>\n",
       "      <td>76561198040188061</td>\n",
       "      <td>http://steamcommunity.com/profiles/76561198040...</td>\n",
       "      <td></td>\n",
       "      <td>Posted May 18, 2011.</td>\n",
       "      <td></td>\n",
       "      <td>0 of 2 people (0%) found this review helpful</td>\n",
       "      <td>True</td>\n",
       "      <td>2.0</td>\n",
       "      <td>...</td>\n",
       "      <td>Counter-Strike</td>\n",
       "      <td>Counter-Strike</td>\n",
       "      <td>http://store.steampowered.com/app/10/CounterSt...</td>\n",
       "      <td>2000-11-01</td>\n",
       "      <td>[Action, FPS, Multiplayer, Shooter, Classic, T...</td>\n",
       "      <td>http://steamcommunity.com/app/10/reviews/?brow...</td>\n",
       "      <td>[Multi-player, Valve Anti-Cheat enabled]</td>\n",
       "      <td>9.99</td>\n",
       "      <td>False</td>\n",
       "      <td>Valve</td>\n",
       "    </tr>\n",
       "    <tr>\n",
       "      <th>3</th>\n",
       "      <td>10</td>\n",
       "      <td>17386015.0</td>\n",
       "      <td>mayshowganmore</td>\n",
       "      <td>http://steamcommunity.com/id/mayshowganmore</td>\n",
       "      <td></td>\n",
       "      <td>Posted January 22, 2014.</td>\n",
       "      <td></td>\n",
       "      <td>0 of 2 people (0%) found this review helpful</td>\n",
       "      <td>True</td>\n",
       "      <td>2.0</td>\n",
       "      <td>...</td>\n",
       "      <td>Counter-Strike</td>\n",
       "      <td>Counter-Strike</td>\n",
       "      <td>http://store.steampowered.com/app/10/CounterSt...</td>\n",
       "      <td>2000-11-01</td>\n",
       "      <td>[Action, FPS, Multiplayer, Shooter, Classic, T...</td>\n",
       "      <td>http://steamcommunity.com/app/10/reviews/?brow...</td>\n",
       "      <td>[Multi-player, Valve Anti-Cheat enabled]</td>\n",
       "      <td>9.99</td>\n",
       "      <td>False</td>\n",
       "      <td>Valve</td>\n",
       "    </tr>\n",
       "    <tr>\n",
       "      <th>4</th>\n",
       "      <td>10</td>\n",
       "      <td>17386015.0</td>\n",
       "      <td>BestinTheWorldThund3r</td>\n",
       "      <td>http://steamcommunity.com/id/BestinTheWorldThu...</td>\n",
       "      <td></td>\n",
       "      <td>Posted March 19, 2014.</td>\n",
       "      <td></td>\n",
       "      <td>0 of 2 people (0%) found this review helpful</td>\n",
       "      <td>True</td>\n",
       "      <td>2.0</td>\n",
       "      <td>...</td>\n",
       "      <td>Counter-Strike</td>\n",
       "      <td>Counter-Strike</td>\n",
       "      <td>http://store.steampowered.com/app/10/CounterSt...</td>\n",
       "      <td>2000-11-01</td>\n",
       "      <td>[Action, FPS, Multiplayer, Shooter, Classic, T...</td>\n",
       "      <td>http://steamcommunity.com/app/10/reviews/?brow...</td>\n",
       "      <td>[Multi-player, Valve Anti-Cheat enabled]</td>\n",
       "      <td>9.99</td>\n",
       "      <td>False</td>\n",
       "      <td>Valve</td>\n",
       "    </tr>\n",
       "  </tbody>\n",
       "</table>\n",
       "<p>5 rows × 22 columns</p>\n",
       "</div>"
      ],
      "text/plain": [
       "  item_id  suma_playtime_forever                user_id  \\\n",
       "0      10             17386015.0           Bennysaputra   \n",
       "1      10             17386015.0               Monsta45   \n",
       "2      10             17386015.0      76561198040188061   \n",
       "3      10             17386015.0         mayshowganmore   \n",
       "4      10             17386015.0  BestinTheWorldThund3r   \n",
       "\n",
       "                                            user_url funny  \\\n",
       "0          http://steamcommunity.com/id/Bennysaputra         \n",
       "1              http://steamcommunity.com/id/Monsta45         \n",
       "2  http://steamcommunity.com/profiles/76561198040...         \n",
       "3        http://steamcommunity.com/id/mayshowganmore         \n",
       "4  http://steamcommunity.com/id/BestinTheWorldThu...         \n",
       "\n",
       "                     posted last_edited  \\\n",
       "0    Posted August 1, 2015.               \n",
       "1    Posted April 26, 2015.               \n",
       "2      Posted May 18, 2011.               \n",
       "3  Posted January 22, 2014.               \n",
       "4    Posted March 19, 2014.               \n",
       "\n",
       "                                        helpful recommend  sentiment-analysis  \\\n",
       "0                                No ratings yet      True                 2.0   \n",
       "1                                No ratings yet      True                 1.0   \n",
       "2  0 of 2 people (0%) found this review helpful      True                 2.0   \n",
       "3  0 of 2 people (0%) found this review helpful      True                 2.0   \n",
       "4  0 of 2 people (0%) found this review helpful      True                 2.0   \n",
       "\n",
       "   ...        app_name           title  \\\n",
       "0  ...  Counter-Strike  Counter-Strike   \n",
       "1  ...  Counter-Strike  Counter-Strike   \n",
       "2  ...  Counter-Strike  Counter-Strike   \n",
       "3  ...  Counter-Strike  Counter-Strike   \n",
       "4  ...  Counter-Strike  Counter-Strike   \n",
       "\n",
       "                                                 url release_date  \\\n",
       "0  http://store.steampowered.com/app/10/CounterSt...   2000-11-01   \n",
       "1  http://store.steampowered.com/app/10/CounterSt...   2000-11-01   \n",
       "2  http://store.steampowered.com/app/10/CounterSt...   2000-11-01   \n",
       "3  http://store.steampowered.com/app/10/CounterSt...   2000-11-01   \n",
       "4  http://store.steampowered.com/app/10/CounterSt...   2000-11-01   \n",
       "\n",
       "                                                tags  \\\n",
       "0  [Action, FPS, Multiplayer, Shooter, Classic, T...   \n",
       "1  [Action, FPS, Multiplayer, Shooter, Classic, T...   \n",
       "2  [Action, FPS, Multiplayer, Shooter, Classic, T...   \n",
       "3  [Action, FPS, Multiplayer, Shooter, Classic, T...   \n",
       "4  [Action, FPS, Multiplayer, Shooter, Classic, T...   \n",
       "\n",
       "                                         reviews_url  \\\n",
       "0  http://steamcommunity.com/app/10/reviews/?brow...   \n",
       "1  http://steamcommunity.com/app/10/reviews/?brow...   \n",
       "2  http://steamcommunity.com/app/10/reviews/?brow...   \n",
       "3  http://steamcommunity.com/app/10/reviews/?brow...   \n",
       "4  http://steamcommunity.com/app/10/reviews/?brow...   \n",
       "\n",
       "                                      specs price early_access developer  \n",
       "0  [Multi-player, Valve Anti-Cheat enabled]  9.99        False     Valve  \n",
       "1  [Multi-player, Valve Anti-Cheat enabled]  9.99        False     Valve  \n",
       "2  [Multi-player, Valve Anti-Cheat enabled]  9.99        False     Valve  \n",
       "3  [Multi-player, Valve Anti-Cheat enabled]  9.99        False     Valve  \n",
       "4  [Multi-player, Valve Anti-Cheat enabled]  9.99        False     Valve  \n",
       "\n",
       "[5 rows x 22 columns]"
      ]
     },
     "execution_count": 28,
     "metadata": {},
     "output_type": "execute_result"
    }
   ],
   "source": [
    "consolidado_df.head()"
   ]
  },
  {
   "cell_type": "code",
   "execution_count": 26,
   "metadata": {},
   "outputs": [],
   "source": [
    "consolidado_df.to_csv('padre_df1.csv',index = False)"
   ]
  }
 ],
 "metadata": {
  "kernelspec": {
   "display_name": "Python 3",
   "language": "python",
   "name": "python3"
  },
  "language_info": {
   "codemirror_mode": {
    "name": "ipython",
    "version": 3
   },
   "file_extension": ".py",
   "mimetype": "text/x-python",
   "name": "python",
   "nbconvert_exporter": "python",
   "pygments_lexer": "ipython3",
   "version": "3.11.4"
  }
 },
 "nbformat": 4,
 "nbformat_minor": 2
}
